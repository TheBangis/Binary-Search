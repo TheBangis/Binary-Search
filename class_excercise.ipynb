{
 "cells": [
  {
   "cell_type": "markdown",
   "metadata": {},
   "source": [
    "## Python Lab\n"
   ]
  },
  {
   "cell_type": "markdown",
   "metadata": {},
   "source": [
    "### Question 1 : WAP that accepts the marks of 5 subjects and finds the sum and percentage marks obtained by the student.\n",
    "\n"
   ]
  },
  {
   "cell_type": "code",
   "execution_count": 30,
   "metadata": {},
   "outputs": [
    {
     "name": "stdout",
     "output_type": "stream",
     "text": [
      "Enter the Subjects Marks\n",
      "The Marks Sum are 250 and the percentage is: 50.0\n"
     ]
    }
   ],
   "source": [
    "print(\"Enter the Subjects Marks\")\n",
    "\n",
    "maths = int(input(\"Enter Maths Scores: \"))\n",
    "english = int(input(\"Enter english  Scores: \"))\n",
    "civil = int(input(\"Enter civil  Scores: \"))\n",
    "csc = int(input(\"Enter csc Scores: \"))\n",
    "python = int(input(\"Enter python Scores: \"))\n",
    "\n",
    "total_marks = maths + english + civil + csc + python\n",
    "\n",
    "percent = (total_marks * 100) / 500\n",
    "\n",
    "print(F\"The Marks Sum are {total_marks} and the percentage is: {percent}\")\n"
   ]
  },
  {
   "cell_type": "markdown",
   "metadata": {},
   "source": [
    "### Question 2 : 2.\tWAP that calculates the Simple Interest and Compound Interest. The Principal, Amount, Rate of Interest and Time are entered through the keyboard.\n",
    "\n"
   ]
  },
  {
   "cell_type": "code",
   "execution_count": 3,
   "metadata": {},
   "outputs": [
    {
     "name": "stdout",
     "output_type": "stream",
     "text": [
      "Simple interest is: 20160.0\n",
      "Compound Interest is: 10080.0\n"
     ]
    }
   ],
   "source": [
    "P = int(input(\"Enter Principle: \"))\n",
    "R = int(input(\"Enter Rate: \"))\n",
    "T = int(input(\"Enter Time: \"))\n",
    "n = int(input(\"Enter Total No of Time: \"))\n",
    "\n",
    "\n",
    "I = (P * R * T) / 100\n",
    "\n",
    "r = R / 100 \n",
    "b = 1 + r\n",
    "CI = P * pow(b, n) - P\n",
    "\n",
    "print(F\"Simple interest is: {I}\")\n",
    "\n",
    "print(F\"Compound Interest is: {CI}\")\n"
   ]
  },
  {
   "cell_type": "markdown",
   "metadata": {},
   "source": [
    "### Questions 3 : WAP to calculate the area and circumference of a circle.\n"
   ]
  },
  {
   "cell_type": "code",
   "execution_count": 5,
   "metadata": {},
   "outputs": [
    {
     "name": "stdout",
     "output_type": "stream",
     "text": [
      "The Area is: 254.50199999999998 and the Circumferen is: 56.556\n"
     ]
    }
   ],
   "source": [
    "pi = 3.142\n",
    "r = int(input(\"enter radius: \"))\n",
    "\n",
    "Area = pi * pow(r, 2)\n",
    "Circumference = 2 * pi * r\n",
    "\n",
    "print(F\"The Area is: {Area} and the Circumferen is: {Circumference}\")"
   ]
  },
  {
   "cell_type": "markdown",
   "metadata": {},
   "source": [
    "### Question 4 : WAP that accepts the temperature in Centigrade and converts into Fahrenheit using the formula C/5=(F-32)/9."
   ]
  },
  {
   "cell_type": "code",
   "execution_count": 7,
   "metadata": {},
   "outputs": [
    {
     "name": "stdout",
     "output_type": "stream",
     "text": [
      "Freh is: 69.80000000000001\n"
     ]
    }
   ],
   "source": [
    "C = int(input(\"Enter Temperature(Centigrade): \"))\n",
    "F  = C * (9/5) + 32\n",
    "print(F\"Freh is: {F}\")"
   ]
  },
  {
   "cell_type": "markdown",
   "metadata": {},
   "source": [
    "### Question 5 : WAP that swaps values of two variables using a third variable.\n"
   ]
  },
  {
   "cell_type": "code",
   "execution_count": 35,
   "metadata": {},
   "outputs": [
    {
     "name": "stdout",
     "output_type": "stream",
     "text": [
      "The Value one is: 3 and Value two is: 2\n"
     ]
    }
   ],
   "source": [
    "val_1 = int(input(\"enter value one: \"))\n",
    "val_2 = int(input(\"enter value two: \"))\n",
    "\n",
    "temp_v = val_1\n",
    "\n",
    "val_1 = val_2\n",
    "\n",
    "val_2 = temp_v\n",
    "\n",
    "print(F\"The Value one is: {val_1} and Value two is: {val_2}\")"
   ]
  },
  {
   "cell_type": "markdown",
   "metadata": {},
   "source": [
    "### Question 6 : WAP that checks whether the two numbers entered by the user are equal or not.\n"
   ]
  },
  {
   "cell_type": "code",
   "execution_count": 10,
   "metadata": {},
   "outputs": [
    {
     "name": "stdout",
     "output_type": "stream",
     "text": [
      "a and b are equal\n"
     ]
    }
   ],
   "source": [
    "a = int(input(\"enter the value of a:\"))\n",
    "b = int(input(\"enter the value of b:\"))\n",
    "\n",
    "if a == b: \n",
    "    print(\"a and b are equal\")\n",
    "else:\n",
    "    print(\"a and b are not equal\")"
   ]
  },
  {
   "cell_type": "markdown",
   "metadata": {},
   "source": [
    "### Question 7: WAP to find the greatest of three numbers."
   ]
  },
  {
   "cell_type": "code",
   "execution_count": 14,
   "metadata": {},
   "outputs": [
    {
     "name": "stdout",
     "output_type": "stream",
     "text": [
      "10 is the greatest number\n"
     ]
    }
   ],
   "source": [
    "a = 4\n",
    "b = 3\n",
    "c = 10\n",
    "if (a >= b) and (a >= c):\n",
    "    print(F\"{a} is greatest number\")\n",
    "elif (b >= a) and (b >= c):\n",
    "    print(F\"{b} is the greatest number\")\n",
    "else:\n",
    "    print(F\"{c} is the greatest number\")"
   ]
  },
  {
   "cell_type": "markdown",
   "metadata": {},
   "source": [
    "### Question 8\n",
    "##### WAP that finds whether a given number is even or odd."
   ]
  },
  {
   "cell_type": "code",
   "execution_count": 18,
   "metadata": {},
   "outputs": [
    {
     "name": "stdout",
     "output_type": "stream",
     "text": [
      "11 is old\n"
     ]
    }
   ],
   "source": [
    "number = int(input(\"enter number: \"))\n",
    "\n",
    "if (number % 2 == 0):\n",
    "    print(F\"{number} is even\")\n",
    "else:\n",
    "    print(F\"{number} is old\")"
   ]
  },
  {
   "cell_type": "markdown",
   "metadata": {},
   "source": [
    "### Question 9 : WAP that tells whether a given year is a leap year or not.\n"
   ]
  },
  {
   "cell_type": "code",
   "execution_count": 25,
   "metadata": {},
   "outputs": [
    {
     "name": "stdout",
     "output_type": "stream",
     "text": [
      "It is a Leap Year\n"
     ]
    }
   ],
   "source": [
    "year = 2008\n",
    "\n",
    "if (year % 4 == 0 and year % 100 !=0) or (year % 400 == 0):\n",
    "\n",
    "    print(F\"It is a Leap Year\")\n",
    "else:\n",
    "    print(F\"It is not a Leap Year\")"
   ]
  },
  {
   "cell_type": "markdown",
   "metadata": {},
   "source": [
    "### Question 10 : WAP that accepts marks of five subjects and finds percentage and prints grades according to the following criteria:Between 90-100%---------------------   Print „A‟ Between 80-90%---------------------------- Print „B‟ Between 60-80%--------------------------- Print „C‟ Between Below 60%---------------------- Print „D‟\n"
   ]
  },
  {
   "cell_type": "code",
   "execution_count": 2,
   "metadata": {},
   "outputs": [
    {
     "name": "stdout",
     "output_type": "stream",
     "text": [
      "Percentage: 69.0\n",
      "Grade: C\n"
     ]
    }
   ],
   "source": [
    "subject_1 = float(input(\"Enter mark for subject: \"))\n",
    "subject_2 = float(input(\"Enter mark for subject: \"))\n",
    "subject_3 = float(input(\"Enter mark for subject: \"))\n",
    "subject_4 = float(input(\"Enter mark for subject: \"))\n",
    "subject_5 = float(input(\"Enter mark for subject: \"))\n",
    "\n",
    "total_marks = subject_1 + subject_2 + subject_3 + subject_4 + subject_5\n",
    "\n",
    "percentage = (total_marks / 500) * 100\n",
    "\n",
    "if percentage >= 90:\n",
    "    grade = 'A'\n",
    "elif percentage >= 80:\n",
    "    grade = \"B\"\n",
    "elif percentage >= 60:\n",
    "    grade = \"C\"\n",
    "else:\n",
    "    grade = \"D\"\n",
    "\n",
    "print(F\"Percentage: {percentage}\")\n",
    "print(F\"Grade: {grade}\")"
   ]
  },
  {
   "cell_type": "markdown",
   "metadata": {},
   "source": [
    "### Question 11 : WAP that takes two operands and one operator from the user and perform the operation and prints the result by using Switch statement.\n"
   ]
  },
  {
   "cell_type": "code",
   "execution_count": 2,
   "metadata": {},
   "outputs": [
    {
     "name": "stdout",
     "output_type": "stream",
     "text": [
      "Result is 41\n"
     ]
    }
   ],
   "source": [
    "operand_1 = int(input(\"enter operand 1: \"))\n",
    "operand_2 = int(input(\"enter operand 2: \"))\n",
    "operator = input(\"enter operator: \")\n",
    "\n",
    "if operator == \"+\":\n",
    "    result = operand_1 + operand_2\n",
    "elif operator == \"-\":\n",
    "    result = operand_1 - operand_2\n",
    "elif operator == \"/\":\n",
    "    result = operand_1 / operand_2\n",
    "elif operator == \"*\":\n",
    "    result = operand_1 + operand_2\n",
    "elif operator == \"%\":\n",
    "    result = operand_1 % operand_2\n",
    "else:\n",
    "    result = 0\n",
    "\n",
    "print(F\"Result is {result}\")\n"
   ]
  },
  {
   "cell_type": "markdown",
   "metadata": {},
   "source": [
    "### Question 12 : WAP to print the sum of all numbers up to a given number."
   ]
  },
  {
   "cell_type": "code",
   "execution_count": 9,
   "metadata": {},
   "outputs": [
    {
     "name": "stdout",
     "output_type": "stream",
     "text": [
      "The sum of all number in 3 is: 6\n"
     ]
    }
   ],
   "source": [
    "n = int(input(\"enter numer: \"))\n",
    "SUM = 0 \n",
    "\n",
    "for i in range(n):\n",
    "    i +=i\n",
    "    SUM+=i \n",
    "    \n",
    "print(F\"The sum of all number in {n} is: {SUM}\")\n"
   ]
  },
  {
   "cell_type": "markdown",
   "metadata": {},
   "source": [
    "### Question 13 : WAP to find the factorial of a given number.\n"
   ]
  },
  {
   "cell_type": "code",
   "execution_count": 1,
   "metadata": {},
   "outputs": [
    {
     "name": "stdout",
     "output_type": "stream",
     "text": [
      "the factorial of 1 is: 1\n"
     ]
    }
   ],
   "source": [
    "n = int(input(\"enter number: \"))\n",
    "\n",
    "fact = 1\n",
    "\n",
    "for i in range(2, n+1):\n",
    "    fact*=i \n",
    "\n",
    "print(F\"the factorial of {n} is: {fact}\")"
   ]
  },
  {
   "cell_type": "markdown",
   "metadata": {},
   "source": [
    "### Question 14 : WAP to print sum of even and odd numbers from 1 to N numbers.\n",
    "\n"
   ]
  },
  {
   "cell_type": "code",
   "execution_count": 12,
   "metadata": {},
   "outputs": [
    {
     "name": "stdout",
     "output_type": "stream",
     "text": [
      "The sum of even numbers is: 20 and the sum of odd numbers is : 25\n"
     ]
    }
   ],
   "source": [
    "n = int(input(\"enter number\"))\n",
    "even = 0\n",
    "odd = 0\n",
    "for i in range(n):\n",
    "    if i % 2 == 0:\n",
    "        even +=i\n",
    "    else:\n",
    "        odd +=i\n",
    "print(F\"The sum of even numbers is: {even} and the sum of odd numbers is : {odd}\")"
   ]
  },
  {
   "cell_type": "markdown",
   "metadata": {},
   "source": [
    "### WAP to print the Fibonacci series.\n"
   ]
  },
  {
   "cell_type": "code",
   "execution_count": 27,
   "metadata": {},
   "outputs": [
    {
     "name": "stdout",
     "output_type": "stream",
     "text": [
      "Fibonacci series is: [1, 1, 2, 3, 5]\n"
     ]
    }
   ],
   "source": [
    "n = int(input(\"enter number of Fibonacci series.\"))\n",
    "\n",
    "if n <= 0:\n",
    "    print(F\"Erro, number must be greater than zero\")\n",
    "else:\n",
    "    fibo_series = [1,1]\n",
    "\n",
    "    for i in range(2, n):\n",
    "        next_num = fibo_series[-1] + fibo_series[-2]\n",
    "        fibo_series.append(next_num)\n",
    "\n",
    "    print(F\"Fibonacci series is: {fibo_series}\")"
   ]
  },
  {
   "cell_type": "markdown",
   "metadata": {},
   "source": [
    "### Question 16 : WAP to check whether the entered number is prime or not.\n"
   ]
  },
  {
   "cell_type": "code",
   "execution_count": 17,
   "metadata": {},
   "outputs": [
    {
     "name": "stdout",
     "output_type": "stream",
     "text": [
      "1 is not a prime number\n"
     ]
    }
   ],
   "source": [
    "n = int(input(\"enter prime number: \"))\n",
    "\n",
    "if n <= 1:\n",
    "    print(F\"{n} is not a prime number\")\n",
    "\n",
    "else:\n",
    "  \n",
    "    for i in range(2, n):\n",
    "        if n % i == 0:\n",
    "            print(F\"{n} is not a prime number\")\n",
    "            break\n",
    "    else:\n",
    "        print(F\"{n} is a prime number\")\n",
    "\n"
   ]
  },
  {
   "cell_type": "markdown",
   "metadata": {},
   "source": [
    "### Question 17 :  Write a program to find the sum of digits of the entered number"
   ]
  },
  {
   "cell_type": "code",
   "execution_count": 8,
   "metadata": {},
   "outputs": [
    {
     "name": "stdout",
     "output_type": "stream",
     "text": [
      "231\n",
      "The sum of digits in 231 is: 6\n"
     ]
    }
   ],
   "source": [
    "number = int(input(\"enter digits number: \"))\n",
    "\n",
    "number_str = str(number)\n",
    "digit_sum = 0\n",
    "\n",
    "for i in number_str:\n",
    "    digit_sum+= int(i)\n",
    "    \n",
    "print(f\"The sum of digits in {number} is: {digit_sum}\")"
   ]
  },
  {
   "cell_type": "markdown",
   "metadata": {},
   "source": [
    "### Question 18 : Write a program to find the reverse of a number"
   ]
  },
  {
   "cell_type": "code",
   "execution_count": 9,
   "metadata": {},
   "outputs": [
    {
     "name": "stdout",
     "output_type": "stream",
     "text": [
      "The reserve of 123 is 321\n"
     ]
    }
   ],
   "source": [
    "number = int(input(\"enter number: \"))\n",
    "\n",
    "reserved_str = str(number)[::-1]\n",
    "\n",
    "reserved_number = int(reserved_str)\n",
    "\n",
    "print(F\"The reserve of {number} is {reserved_number}\")"
   ]
  },
  {
   "cell_type": "markdown",
   "metadata": {},
   "source": [
    "### Question 19 : write a program to print armstrong numbers from 1 to 100"
   ]
  },
  {
   "cell_type": "code",
   "execution_count": 10,
   "metadata": {},
   "outputs": [
    {
     "name": "stdout",
     "output_type": "stream",
     "text": [
      "Armstrong numbers from 1 to 100:\n",
      "1\n",
      "2\n",
      "3\n",
      "4\n",
      "5\n",
      "6\n",
      "7\n",
      "8\n",
      "9\n"
     ]
    }
   ],
   "source": [
    "def is_armstrong_number(num):\n",
    "    # Calculate the number of digits in the number\n",
    "    num_digits = len(str(num))\n",
    "\n",
    "    # Calculate the sum of each digit raised to the power of the number of digits\n",
    "    digit_sum = sum(int(digit) ** num_digits for digit in str(num))\n",
    "\n",
    "    # Check if the number is an Armstrong number\n",
    "    return num == digit_sum\n",
    "\n",
    "# Print Armstrong numbers in the range from 1 to 100\n",
    "print(\"Armstrong numbers from 1 to 100:\")\n",
    "for i in range(1, 101):\n",
    "    if is_armstrong_number(i):\n",
    "        print(i)\n"
   ]
  },
  {
   "cell_type": "markdown",
   "metadata": {},
   "source": [
    "### Question 20 : write a program to convert binary number into decimal number and vice versa"
   ]
  },
  {
   "cell_type": "code",
   "execution_count": 12,
   "metadata": {},
   "outputs": [
    {
     "name": "stdout",
     "output_type": "stream",
     "text": [
      "The decimal equivalent of 110011 is: 51\n"
     ]
    }
   ],
   "source": [
    "def binary_to_decimal(binary_number):\n",
    "    decimal_number = int(binary_number, 2)\n",
    "    return decimal_number\n",
    "\n",
    "def decimal_to_binary(decimal_number):\n",
    "    binary_number = bin(decimal_number)[2:]\n",
    "    return binary_number\n",
    "\n",
    "choice = int(input(\"Choose conversion type (1 for binary to decimal, 2 for decimal to binary): \"))\n",
    "\n",
    "if choice == 1:\n",
    "    binary_input = input(\"Enter a binary number: \")\n",
    "    decimal_result = binary_to_decimal(binary_input)\n",
    "    print(f\"The decimal equivalent of {binary_input} is: {decimal_result}\")\n",
    "\n",
    "elif choice == 2:\n",
    "    decimal_input = int(input(\"Enter a decimal number: \"))\n",
    "    binary_result = decimal_to_binary(decimal_input)\n",
    "    print(f\"The binary equivalent of {decimal_input} is: {binary_result}\")\n",
    "\n",
    "else:\n",
    "    print(\"Invalid choice. Please enter '1' or '2' for the conversion type.\")\n"
   ]
  }
 ],
 "metadata": {
  "kernelspec": {
   "display_name": "Python 3",
   "language": "python",
   "name": "python3"
  },
  "language_info": {
   "codemirror_mode": {
    "name": "ipython",
    "version": 3
   },
   "file_extension": ".py",
   "mimetype": "text/x-python",
   "name": "python",
   "nbconvert_exporter": "python",
   "pygments_lexer": "ipython3",
   "version": "3.11.5"
  }
 },
 "nbformat": 4,
 "nbformat_minor": 2
}
